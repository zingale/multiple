{
 "cells": [
  {
   "cell_type": "code",
   "execution_count": 1,
   "metadata": {},
   "outputs": [
    {
     "name": "stdout",
     "output_type": "stream",
     "text": [
      "IPython console for SymPy 1.3 (Python 3.7.4-64-bit) (ground types: python)\n",
      "\n",
      "These commands were executed:\n",
      ">>> from __future__ import division\n",
      ">>> from sympy import *\n",
      ">>> x, y, z, t = symbols('x y z t')\n",
      ">>> k, m, n = symbols('k m n', integer=True)\n",
      ">>> f, g, h = symbols('f g h', cls=Function)\n",
      ">>> init_printing()\n",
      "\n",
      "Documentation can be found at http://docs.sympy.org/1.3/\n",
      "\n"
     ]
    }
   ],
   "source": [
    "from sympy import init_session\n",
    "init_session()"
   ]
  },
  {
   "cell_type": "code",
   "execution_count": 2,
   "metadata": {},
   "outputs": [],
   "source": [
    "a1, a3 = symbols(\"a_1 a_3\", positive=True)\n",
    "lam = symbols(\"\\lambda\")"
   ]
  },
  {
   "cell_type": "code",
   "execution_count": 3,
   "metadata": {},
   "outputs": [],
   "source": [
    "f = x**2/(a1**2 + lam) + z**2/(a3**2 + lam) - 1"
   ]
  },
  {
   "cell_type": "code",
   "execution_count": 4,
   "metadata": {},
   "outputs": [
    {
     "data": {
      "image/png": "[encoded data removed]",
      "text/latex": [
       "$$\\frac{x^{2}}{\\lambda + a_{1}^{2}} + \\frac{z^{2}}{\\lambda + a_{3}^{2}} - 1$$"
      ],
      "text/plain": [
       "       2               2         \n",
       "      x               z          \n",
       "───────────── + ───────────── - 1\n",
       "            2               2    \n",
       "\\lambda + a₁    \\lambda + a₃     "
      ]
     },
     "execution_count": 4,
     "metadata": {},
     "output_type": "execute_result"
    }
   ],
   "source": [
    "f"
   ]
  },
  {
   "cell_type": "code",
   "execution_count": 5,
   "metadata": {},
   "outputs": [],
   "source": [
    "r = solve(f, lam)"
   ]
  },
  {
   "cell_type": "code",
   "execution_count": 6,
   "metadata": {},
   "outputs": [
    {
     "data": {
      "image/png": "[encoded data removed]",
      "text/latex": [
       "$$- \\frac{a_{1}^{2}}{2} - \\frac{a_{3}^{2}}{2} + \\frac{x^{2}}{2} + \\frac{z^{2}}{2} - \\frac{\\sqrt{a_{1}^{4} - 2 a_{1}^{2} a_{3}^{2} - 2 a_{1}^{2} x^{2} + 2 a_{1}^{2} z^{2} + a_{3}^{4} + 2 a_{3}^{2} x^{2} - 2 a_{3}^{2} z^{2} + x^{4} + 2 x^{2} z^{2} + z^{4}}}{2}$$"
      ],
      "text/plain": [
       "                           ___________________________________________________\n",
       "    2     2    2    2     ╱   4       2   2       2  2       2  2     4       \n",
       "  a₁    a₃    x    z    ╲╱  a₁  - 2⋅a₁ ⋅a₃  - 2⋅a₁ ⋅x  + 2⋅a₁ ⋅z  + a₃  + 2⋅a₃\n",
       "- ─── - ─── + ── + ── - ──────────────────────────────────────────────────────\n",
       "   2     2    2    2                                                2         \n",
       "\n",
       "____________________________________\n",
       "2  2       2  2    4      2  2    4 \n",
       " ⋅x  - 2⋅a₃ ⋅z  + x  + 2⋅x ⋅z  + z  \n",
       "────────────────────────────────────\n",
       "                                    "
      ]
     },
     "execution_count": 6,
     "metadata": {},
     "output_type": "execute_result"
    }
   ],
   "source": [
    "simplify(r[0])"
   ]
  },
  {
   "cell_type": "code",
   "execution_count": 7,
   "metadata": {},
   "outputs": [
    {
     "data": {
      "image/png": "[encoded data removed]",
      "text/latex": [
       "$$- \\frac{a_{1}^{2}}{2} - \\frac{a_{3}^{2}}{2} + \\frac{x^{2}}{2} + \\frac{z^{2}}{2} + \\frac{\\sqrt{a_{1}^{4} - 2 a_{1}^{2} a_{3}^{2} - 2 a_{1}^{2} x^{2} + 2 a_{1}^{2} z^{2} + a_{3}^{4} + 2 a_{3}^{2} x^{2} - 2 a_{3}^{2} z^{2} + x^{4} + 2 x^{2} z^{2} + z^{4}}}{2}$$"
      ],
      "text/plain": [
       "                           ___________________________________________________\n",
       "    2     2    2    2     ╱   4       2   2       2  2       2  2     4       \n",
       "  a₁    a₃    x    z    ╲╱  a₁  - 2⋅a₁ ⋅a₃  - 2⋅a₁ ⋅x  + 2⋅a₁ ⋅z  + a₃  + 2⋅a₃\n",
       "- ─── - ─── + ── + ── + ──────────────────────────────────────────────────────\n",
       "   2     2    2    2                                                2         \n",
       "\n",
       "____________________________________\n",
       "2  2       2  2    4      2  2    4 \n",
       " ⋅x  - 2⋅a₃ ⋅z  + x  + 2⋅x ⋅z  + z  \n",
       "────────────────────────────────────\n",
       "                                    "
      ]
     },
     "execution_count": 7,
     "metadata": {},
     "output_type": "execute_result"
    }
   ],
   "source": [
    "simplify(r[1])"
   ]
  },
  {
   "cell_type": "code",
   "execution_count": null,
   "metadata": {},
   "outputs": [],
   "source": []
  }
 ],
 "metadata": {
  "kernelspec": {
   "display_name": "Python 3",
   "language": "python",
   "name": "python3"
  },
  "language_info": {
   "codemirror_mode": {
    "name": "ipython",
    "version": 3
   },
   "file_extension": ".py",
   "mimetype": "text/x-python",
   "name": "python",
   "nbconvert_exporter": "python",
   "pygments_lexer": "ipython3",
   "version": "3.7.4"
  }
 },
 "nbformat": 4,
 "nbformat_minor": 4
}
